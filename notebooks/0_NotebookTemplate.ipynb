{
 "cells": [
  {
   "cell_type": "markdown",
   "metadata": {},
   "source": [
    "# Notebook Template"
   ]
  },
  {
   "cell_type": "code",
   "execution_count": null,
   "metadata": {},
   "outputs": [],
   "source": [
    "from settings import settings # Import settings"
   ]
  },
  {
   "cell_type": "markdown",
   "metadata": {},
   "source": [
    "## Installation of Dependencies"
   ]
  },
  {
   "cell_type": "markdown",
   "metadata": {},
   "source": [
    "! pip install llama-index llama-index-embeddings-azure-openai llama-index-llms-azure-openai\n"
   ]
  },
  {
   "cell_type": "markdown",
   "metadata": {},
   "source": [
    "## Query OpenAI Endpoint using LlamaIndex"
   ]
  },
  {
   "cell_type": "code",
   "execution_count": null,
   "metadata": {},
   "outputs": [
    {
     "name": "stdout",
     "output_type": "stream",
     "text": [
      "AI Response: assistant: Using Azure OpenAI offers several benefits, particularly for businesses and developers looking to leverage advanced AI capabilities. Here are some key advantages:\n",
      "\n",
      "1. **Access to Advanced AI Models**: Azure OpenAI provides access to powerful language models developed by OpenAI, such as GPT-3 and its successors. These models are capable of understanding and generating human-like text, which can be used for a wide range of applications.\n",
      "\n",
      "2. **Scalability and Reliability**: Being part of the Azure ecosystem, Azure OpenAI benefits from Microsoft's robust cloud infrastructure. This ensures high availability, scalability, and reliability, allowing businesses to deploy AI solutions at scale.\n",
      "\n",
      "3. **Integration with Azure Services**: Azure OpenAI can be easily integrated with other Azure services, such as Azure Cognitive Services, Azure Machine Learning, and Azure Data Lake. This integration facilitates the development of comprehensive AI solutions that can leverage various data sources and analytics tools.\n",
      "\n",
      "4. **Security and Compliance**: Microsoft Azure is known for its strong focus on security and compliance. Azure OpenAI inherits these features, providing enterprise-grade security measures, data privacy, and compliance with industry standards and regulations.\n",
      "\n",
      "5. **Customization and Fine-Tuning**: Users can fine-tune the AI models to better suit their specific needs and applications. This customization allows businesses to create more accurate and relevant AI solutions tailored to their unique requirements.\n",
      "\n",
      "6. **Cost-Effectiveness**: By using Azure's pay-as-you-go pricing model, businesses can manage costs effectively, paying only for the resources they use. This model is particularly beneficial for startups and small businesses that need to manage their budgets carefully.\n",
      "\n",
      "7. **Global Reach**: Azure's global network of data centers ensures that Azure OpenAI services can be accessed from virtually anywhere in the world, providing low-latency access and supporting global operations.\n",
      "\n",
      "8. **Developer-Friendly Tools**: Azure provides a range of tools and SDKs that make it easier for developers to build, deploy, and manage AI applications. This includes support for popular programming languages and frameworks.\n",
      "\n",
      "9. **Continuous Updates and Improvements**: Microsoft and OpenAI continuously work on improving their models and services. Users of Azure OpenAI can benefit from these ongoing advancements, ensuring they have access to the latest AI capabilities.\n",
      "\n",
      "10. **Support and Resources**: Azure offers extensive documentation, tutorials, and support resources to help users get started and troubleshoot any issues they might encounter. Additionally, Azure's customer support can assist with more complex queries and problems.\n",
      "\n",
      "Overall, Azure OpenAI provides a robust platform for businesses and developers to harness the power of advanced AI, enabling them to innovate and improve their products and services.\n"
     ]
    }
   ],
   "source": [
    "import os\n",
    "from llama_index.llms.azure_openai import AzureOpenAI\n",
    "from llama_index.core.llms import ChatMessage\n",
    "\n",
    "llm = AzureOpenAI(\n",
    "    engine=settings.AZURE_OPENAI_ENGINE,\n",
    "    model=settings.AZURE_OPENAI_MODEL,\n",
    "    api_key=settings.AZURE_OPENAI_API_KEY,\n",
    "    azure_endpoint=settings.AZURE_OPENAI_ENDPOINT,\n",
    "    api_version=settings.AZURE_OPENAI_API_VERSION,\n",
    ")\n",
    "\n",
    "prompt = \"What are the benefits of using Azure OpenAI?\"\n",
    "response = llm.chat([ChatMessage(role=\"user\", content=prompt)])\n",
    "\n",
    "print(\"AI Response:\", response)"
   ]
  }
 ],
 "metadata": {
  "kernelspec": {
   "display_name": "Python 3",
   "language": "python",
   "name": "python3"
  },
  "language_info": {
   "codemirror_mode": {
    "name": "ipython",
    "version": 3
   },
   "file_extension": ".py",
   "mimetype": "text/x-python",
   "name": "python",
   "nbconvert_exporter": "python",
   "pygments_lexer": "ipython3",
   "version": "3.11.10"
  }
 },
 "nbformat": 4,
 "nbformat_minor": 2
}
