{
 "cells": [
  {
   "cell_type": "markdown",
   "metadata": {},
   "source": [
    "# Notebook Template"
   ]
  },
  {
   "cell_type": "code",
   "execution_count": 1,
   "metadata": {},
   "outputs": [],
   "source": [
    "from llama_index.llms.azure_openai import AzureOpenAI\n",
    "\n",
    "from settings import settings \n",
    "from generate_article import Style, Tone, ArticleLength, TargetAudiance, UserPreferences, generate_article, organize_model_output"
   ]
  },
  {
   "cell_type": "markdown",
   "metadata": {},
   "source": [
    "## Installation of Dependencies"
   ]
  },
  {
   "cell_type": "markdown",
   "metadata": {},
   "source": [
    "! pip install llama-index llama-index-embeddings-azure-openai llama-index-llms-azure-openai\n"
   ]
  },
  {
   "cell_type": "markdown",
   "metadata": {},
   "source": [
    "## Query OpenAI Endpoint using LlamaIndex"
   ]
  },
  {
   "cell_type": "code",
   "execution_count": 2,
   "metadata": {},
   "outputs": [],
   "source": [
    "llm = AzureOpenAI(\n",
    "    engine=settings.AZURE_OPENAI_ENGINE,\n",
    "    model=settings.AZURE_OPENAI_MODEL,\n",
    "    api_key=settings.AZURE_OPENAI_API_KEY,\n",
    "    azure_endpoint=settings.AZURE_OPENAI_ENDPOINT,\n",
    "    api_version=settings.AZURE_OPENAI_API_VERSION,\n",
    "    temperature=0.2\n",
    ")\n",
    "\n",
    "prefs = UserPreferences(\n",
    "    style=Style.casual, # can be None\n",
    "    tone=Tone.opinionated, # can be None\n",
    "    target_audiance=TargetAudiance.beginners, # can be None\n",
    "    article_length=ArticleLength.long, #ArticleLength.medium, # can be None\n",
    ")\n",
    "\n",
    "response = generate_article(llm, prefs)"
   ]
  },
  {
   "cell_type": "code",
   "execution_count": 3,
   "metadata": {},
   "outputs": [
    {
     "name": "stdout",
     "output_type": "stream",
     "text": [
      "2025 BMW F 900 R and F 900 XR Preview\n",
      "\n",
      "Introduction\n",
      "The 2025 BMW F 900 R and F 900 XR are set to redefine the mid-range motorcycle segment with their impressive technical and visual upgrades. These models are designed to cater to both dynamic roadster enthusiasts and long-distance sports bike aficionados. With significantly extended standard equipment, BMW aims to enhance the riding experience and offer more value to its customers.\n",
      "\n",
      "F 900 R: The Dynamic Roadster\n",
      "The F 900 R is a dynamic roadster that promises agility and performance. It features a powerful engine, advanced suspension systems, and cutting-edge technology that ensures a thrilling ride. The design is sleek and modern, reflecting BMW's commitment to innovation and style. Riders can expect improved handling and comfort, making it an ideal choice for both city rides and weekend getaways.\n",
      "\n",
      "F 900 XR: The Long-Distance Sports Bike\n",
      "On the other hand, the F 900 XR is tailored for those who seek adventure and long-distance travel. It combines the agility of a roadster with the comfort and versatility of a touring bike. The XR model comes with enhanced aerodynamics, a more comfortable seating position, and advanced safety features, making it perfect for long journeys. The extended standard equipment includes features like adaptive headlights, a TFT display, and connectivity options that keep riders informed and entertained on the road.\n",
      "\n",
      "Advanced Technology and Features\n",
      "Both models are equipped with BMW's latest technology, including ride modes, traction control, and ABS. These features ensure safety and adaptability to various riding conditions. The bikes also offer customization options, allowing riders to personalize their motorcycles according to their preferences.\n",
      "\n",
      "Conclusion\n",
      "In conclusion, the 2025 BMW F 900 R and F 900 XR are poised to make a significant impact in the motorcycle market. With their blend of performance, comfort, and technology, they cater to a wide range of riders, from thrill-seekers to long-distance travelers. BMW continues to push the boundaries of innovation, ensuring that their motorcycles remain at the forefront of the industry.\n",
      "\n",
      "\n"
     ]
    }
   ],
   "source": [
    "print(organize_model_output(response))"
   ]
  },
  {
   "cell_type": "code",
   "execution_count": null,
   "metadata": {},
   "outputs": [],
   "source": []
  }
 ],
 "metadata": {
  "kernelspec": {
   "display_name": "Python 3 (ipykernel)",
   "language": "python",
   "name": "python3"
  },
  "language_info": {
   "codemirror_mode": {
    "name": "ipython",
    "version": 3
   },
   "file_extension": ".py",
   "mimetype": "text/x-python",
   "name": "python",
   "nbconvert_exporter": "python",
   "pygments_lexer": "ipython3",
   "version": "3.13.0"
  }
 },
 "nbformat": 4,
 "nbformat_minor": 4
}
