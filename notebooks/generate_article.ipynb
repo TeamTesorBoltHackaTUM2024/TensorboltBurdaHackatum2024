{
 "cells": [
  {
   "cell_type": "markdown",
   "metadata": {},
   "source": [
    "# Notebook Template"
   ]
  },
  {
   "cell_type": "code",
   "execution_count": 1,
   "metadata": {},
   "outputs": [],
   "source": [
    "from llama_index.llms.azure_openai import AzureOpenAI\n",
    "\n",
    "from settings import settings \n",
    "from generate_article import Style, Tone, ArticleLength, TargetAudiance, UserPreferences, generate_article, organize_model_output"
   ]
  },
  {
   "cell_type": "markdown",
   "metadata": {},
   "source": [
    "## Installation of Dependencies"
   ]
  },
  {
   "cell_type": "markdown",
   "metadata": {},
   "source": [
    "! pip install llama-index llama-index-embeddings-azure-openai llama-index-llms-azure-openai\n"
   ]
  },
  {
   "cell_type": "markdown",
   "metadata": {},
   "source": [
    "## Query OpenAI Endpoint using LlamaIndex"
   ]
  },
  {
   "cell_type": "code",
   "execution_count": 2,
   "metadata": {},
   "outputs": [],
   "source": [
    "llm = AzureOpenAI(\n",
    "    engine=settings.AZURE_OPENAI_ENGINE,\n",
    "    model=settings.AZURE_OPENAI_MODEL,\n",
    "    api_key=settings.AZURE_OPENAI_API_KEY,\n",
    "    azure_endpoint=settings.AZURE_OPENAI_ENDPOINT,\n",
    "    api_version=settings.AZURE_OPENAI_API_VERSION,\n",
    "    temperature=0.2\n",
    ")\n",
    "\n",
    "prefs = UserPreferences(\n",
    "    style=Style.casual, # can be None\n",
    "    tone=Tone.opinionated, # can be None\n",
    "    target_audiance=TargetAudiance.beginners, # can be None\n",
    "    article_length=ArticleLength.long, #ArticleLength.medium, # can be None\n",
    ")\n",
    "\n",
    "response = generate_article(llm, prefs)"
   ]
  },
  {
   "cell_type": "code",
   "execution_count": 3,
   "metadata": {},
   "outputs": [
    {
     "name": "stdout",
     "output_type": "stream",
     "text": [
      "A46 Speed Limit Controversy: Balancing Safety and Enforcement\n",
      "\n",
      "Introduction\n",
      "The A46 near Coventry has become a focal point of debate due to its sudden speed limit change from 70 mph to 50 mph. This change has sparked mixed reactions among locals and newcomers alike. While some drivers adhere to the new limit, others continue to drive at higher speeds, ignoring the posted signs. This discrepancy in driving behavior has led to calls for increased enforcement measures, such as the installation of more average speed cameras along the route.\n",
      "\n",
      "Reasons for Speed Limit Change\n",
      "The speed limit reduction is primarily due to a bend under the Toll Bar junction, which poses a safety risk at higher speeds. However, many local drivers, familiar with the road, tend to overlook the new limit, while newcomers often brake suddenly upon encountering speed cameras, causing potential hazards. This situation has led to a broader discussion on road safety and the effectiveness of current speed enforcement strategies.\n",
      "\n",
      "Calls for Increased Enforcement\n",
      "Some Coventry Live readers have suggested that more average speed cameras could help ensure compliance with the speed limit. These cameras, which calculate a vehicle's average speed over a distance, are seen as a more effective deterrent than traditional speed cameras, which only capture speed at a single point. Proponents argue that this method would encourage consistent adherence to speed limits, reducing the likelihood of accidents.\n",
      "\n",
      "Arguments Against Stricter Enforcement\n",
      "On the other hand, some argue that the current speed limits are justified given the road conditions and that stricter enforcement could lead to unnecessary penalties for drivers. They emphasize the importance of maintaining safety on the A46, particularly in areas with challenging road layouts. This perspective highlights the need for a balanced approach that considers both safety and the practicalities of enforcement.\n",
      "\n",
      "Conclusion\n",
      "The debate over the A46 speed limit continues to unfold on social media, with opinions divided on the best course of action. While some advocate for stricter enforcement and additional cameras, others question the rationale behind the speed limit changes. This ongoing discussion reflects broader concerns about road safety and the role of enforcement in promoting responsible driving behavior.\n",
      "\n",
      "\n"
     ]
    }
   ],
   "source": [
    "print(organize_model_output(response))"
   ]
  },
  {
   "cell_type": "code",
   "execution_count": 5,
   "metadata": {},
   "outputs": [
    {
     "ename": "ImportError",
     "evalue": "cannot import name 'WithJsonSchema' from 'llama_index.core.bridge.pydantic' (/opt/homebrew/lib/python3.11/site-packages/llama_index/core/bridge/pydantic.py)",
     "output_type": "error",
     "traceback": [
      "\u001b[0;31m---------------------------------------------------------------------------\u001b[0m",
      "\u001b[0;31mImportError\u001b[0m                               Traceback (most recent call last)",
      "Cell \u001b[0;32mIn[5], line 1\u001b[0m\n\u001b[0;32m----> 1\u001b[0m \u001b[38;5;28;01mfrom\u001b[39;00m \u001b[38;5;21;01mdatabase_manager\u001b[39;00m \u001b[38;5;28;01mimport\u001b[39;00m get_clusters\n\u001b[1;32m      3\u001b[0m clusters \u001b[38;5;241m=\u001b[39m get_clusters()\n\u001b[1;32m      4\u001b[0m clusters\n",
      "File \u001b[0;32m~/Documents/hackatum2024/testt/TensorboltBurdaHackatum2024/notebooks/database_manager.py:6\u001b[0m\n\u001b[1;32m      4\u001b[0m \u001b[38;5;28;01mfrom\u001b[39;00m \u001b[38;5;21;01mdotenv\u001b[39;00m \u001b[38;5;28;01mimport\u001b[39;00m load_dotenv\n\u001b[1;32m      5\u001b[0m \u001b[38;5;28;01mfrom\u001b[39;00m \u001b[38;5;21;01mllama_index\u001b[39;00m\u001b[38;5;21;01m.\u001b[39;00m\u001b[38;5;21;01mcore\u001b[39;00m \u001b[38;5;28;01mimport\u001b[39;00m VectorStoreIndex, StorageContext, Document\n\u001b[0;32m----> 6\u001b[0m \u001b[38;5;28;01mfrom\u001b[39;00m \u001b[38;5;21;01mllama_index\u001b[39;00m\u001b[38;5;21;01m.\u001b[39;00m\u001b[38;5;21;01membeddings\u001b[39;00m\u001b[38;5;21;01m.\u001b[39;00m\u001b[38;5;21;01mazure_openai\u001b[39;00m \u001b[38;5;28;01mimport\u001b[39;00m AzureOpenAIEmbedding\n\u001b[1;32m      7\u001b[0m \u001b[38;5;28;01mfrom\u001b[39;00m \u001b[38;5;21;01mllama_index\u001b[39;00m\u001b[38;5;21;01m.\u001b[39;00m\u001b[38;5;21;01mcore\u001b[39;00m \u001b[38;5;28;01mimport\u001b[39;00m Settings\n\u001b[1;32m      8\u001b[0m \u001b[38;5;28;01mimport\u001b[39;00m \u001b[38;5;21;01mqdrant_client\u001b[39;00m\n",
      "File \u001b[0;32m/opt/homebrew/lib/python3.11/site-packages/llama_index/embeddings/azure_openai/__init__.py:1\u001b[0m\n\u001b[0;32m----> 1\u001b[0m \u001b[38;5;28;01mfrom\u001b[39;00m \u001b[38;5;21;01mllama_index\u001b[39;00m\u001b[38;5;21;01m.\u001b[39;00m\u001b[38;5;21;01membeddings\u001b[39;00m\u001b[38;5;21;01m.\u001b[39;00m\u001b[38;5;21;01mazure_openai\u001b[39;00m\u001b[38;5;21;01m.\u001b[39;00m\u001b[38;5;21;01mbase\u001b[39;00m \u001b[38;5;28;01mimport\u001b[39;00m (\n\u001b[1;32m      2\u001b[0m     AzureOpenAIEmbedding,\n\u001b[1;32m      3\u001b[0m     AzureOpenAI,\n\u001b[1;32m      4\u001b[0m     AsyncAzureOpenAI,\n\u001b[1;32m      5\u001b[0m )\n\u001b[1;32m      7\u001b[0m __all__ \u001b[38;5;241m=\u001b[39m [\u001b[38;5;124m\"\u001b[39m\u001b[38;5;124mAzureOpenAIEmbedding\u001b[39m\u001b[38;5;124m\"\u001b[39m, \u001b[38;5;124m\"\u001b[39m\u001b[38;5;124mAzureOpenAI\u001b[39m\u001b[38;5;124m\"\u001b[39m, \u001b[38;5;124m\"\u001b[39m\u001b[38;5;124mAsyncAzureOpenAI\u001b[39m\u001b[38;5;124m\"\u001b[39m]\n",
      "File \u001b[0;32m/opt/homebrew/lib/python3.11/site-packages/llama_index/embeddings/azure_openai/base.py:4\u001b[0m\n\u001b[1;32m      1\u001b[0m \u001b[38;5;28;01mfrom\u001b[39;00m \u001b[38;5;21;01mtyping\u001b[39;00m \u001b[38;5;28;01mimport\u001b[39;00m Annotated, Any, Dict, Optional\n\u001b[1;32m      3\u001b[0m \u001b[38;5;28;01mimport\u001b[39;00m \u001b[38;5;21;01mhttpx\u001b[39;00m\n\u001b[0;32m----> 4\u001b[0m \u001b[38;5;28;01mfrom\u001b[39;00m \u001b[38;5;21;01mllama_index\u001b[39;00m\u001b[38;5;21;01m.\u001b[39;00m\u001b[38;5;21;01mcore\u001b[39;00m\u001b[38;5;21;01m.\u001b[39;00m\u001b[38;5;21;01mbridge\u001b[39;00m\u001b[38;5;21;01m.\u001b[39;00m\u001b[38;5;21;01mpydantic\u001b[39;00m \u001b[38;5;28;01mimport\u001b[39;00m (\n\u001b[1;32m      5\u001b[0m     Field,\n\u001b[1;32m      6\u001b[0m     PrivateAttr,\n\u001b[1;32m      7\u001b[0m     WithJsonSchema,\n\u001b[1;32m      8\u001b[0m     model_validator,\n\u001b[1;32m      9\u001b[0m )\n\u001b[1;32m     10\u001b[0m \u001b[38;5;28;01mfrom\u001b[39;00m \u001b[38;5;21;01mllama_index\u001b[39;00m\u001b[38;5;21;01m.\u001b[39;00m\u001b[38;5;21;01mcore\u001b[39;00m\u001b[38;5;21;01m.\u001b[39;00m\u001b[38;5;21;01mcallbacks\u001b[39;00m\u001b[38;5;21;01m.\u001b[39;00m\u001b[38;5;21;01mbase\u001b[39;00m \u001b[38;5;28;01mimport\u001b[39;00m CallbackManager\n\u001b[1;32m     11\u001b[0m \u001b[38;5;28;01mfrom\u001b[39;00m \u001b[38;5;21;01mllama_index\u001b[39;00m\u001b[38;5;21;01m.\u001b[39;00m\u001b[38;5;21;01mcore\u001b[39;00m\u001b[38;5;21;01m.\u001b[39;00m\u001b[38;5;21;01mconstants\u001b[39;00m \u001b[38;5;28;01mimport\u001b[39;00m DEFAULT_EMBED_BATCH_SIZE\n",
      "\u001b[0;31mImportError\u001b[0m: cannot import name 'WithJsonSchema' from 'llama_index.core.bridge.pydantic' (/opt/homebrew/lib/python3.11/site-packages/llama_index/core/bridge/pydantic.py)"
     ]
    }
   ],
   "source": [
    "from database_manager import get_clusters\n",
    "\n",
    "clusters = get_clusters()\n",
    "clusters"
   ]
  }
 ],
 "metadata": {
  "kernelspec": {
   "display_name": "Python 3",
   "language": "python",
   "name": "python3"
  },
  "language_info": {
   "codemirror_mode": {
    "name": "ipython",
    "version": 3
   },
   "file_extension": ".py",
   "mimetype": "text/x-python",
   "name": "python",
   "nbconvert_exporter": "python",
   "pygments_lexer": "ipython3",
   "version": "3.11.10"
  }
 },
 "nbformat": 4,
 "nbformat_minor": 4
}
