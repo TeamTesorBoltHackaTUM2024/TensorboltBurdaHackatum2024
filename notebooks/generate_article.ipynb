{
 "cells": [
  {
   "cell_type": "markdown",
   "metadata": {},
   "source": [
    "# Notebook Template"
   ]
  },
  {
   "cell_type": "code",
   "execution_count": 1,
   "metadata": {},
   "outputs": [],
   "source": [
    "from settings import settings # Import settings"
   ]
  },
  {
   "cell_type": "markdown",
   "metadata": {},
   "source": [
    "## Installation of Dependencies"
   ]
  },
  {
   "cell_type": "markdown",
   "metadata": {},
   "source": [
    "! pip install llama-index llama-index-embeddings-azure-openai llama-index-llms-azure-openai\n"
   ]
  },
  {
   "cell_type": "markdown",
   "metadata": {},
   "source": [
    "## Query OpenAI Endpoint using LlamaIndex"
   ]
  },
  {
   "cell_type": "code",
   "execution_count": 2,
   "metadata": {},
   "outputs": [],
   "source": [
    "import os\n",
    "from llama_index.llms.azure_openai import AzureOpenAI\n",
    "from llama_index.core.llms import ChatMessage\n",
    "from generate_article import generate_article\n",
    "\n",
    "llm = AzureOpenAI(\n",
    "    engine=settings.AZURE_OPENAI_ENGINE,\n",
    "    model=settings.AZURE_OPENAI_MODEL,\n",
    "    api_key=settings.AZURE_OPENAI_API_KEY,\n",
    "    azure_endpoint=settings.AZURE_OPENAI_ENDPOINT,\n",
    "    api_version=settings.AZURE_OPENAI_API_VERSION,\n",
    ")\n",
    "\n",
    "response = generate_article(llm)"
   ]
  },
  {
   "cell_type": "code",
   "execution_count": 3,
   "metadata": {},
   "outputs": [
    {
     "name": "stdout",
     "output_type": "stream",
     "text": [
      "2025 BMW F 900 R and F 900 XR Preview\n",
      "\n",
      "BMW Unveils 2025 F 900 R and F 900 XR\n",
      "BMW has unveiled the 2025 models of its F 900 R and F 900 XR, showcasing significant technical and visual upgrades. These models are designed to cater to both dynamic roadster enthusiasts and long-distance sports bike riders. The new versions come with extended standard equipment, enhancing the overall riding experience. The F 900 R and F 900 XR are set to redefine the mid-range segment with their advanced features and stylish design.\n",
      "\n",
      "\n"
     ]
    }
   ],
   "source": [
    "from generate_article import organize_model_output\n",
    "\n",
    "print(organize_model_output(response))"
   ]
  }
 ],
 "metadata": {
  "kernelspec": {
   "display_name": "Python 3 (ipykernel)",
   "language": "python",
   "name": "python3"
  },
  "language_info": {
   "codemirror_mode": {
    "name": "ipython",
    "version": 3
   },
   "file_extension": ".py",
   "mimetype": "text/x-python",
   "name": "python",
   "nbconvert_exporter": "python",
   "pygments_lexer": "ipython3",
   "version": "3.13.0"
  }
 },
 "nbformat": 4,
 "nbformat_minor": 4
}
